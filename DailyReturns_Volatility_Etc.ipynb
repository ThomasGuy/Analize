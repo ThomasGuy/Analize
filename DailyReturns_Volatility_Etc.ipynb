{
 "cells": [
  {
   "cell_type": "code",
   "execution_count": 1,
   "metadata": {},
   "outputs": [
    {
     "ename": "ModuleNotFoundError",
     "evalue": "No module named 'statsmodels'",
     "output_type": "error",
     "traceback": [
      "\u001b[1;31m---------------------------------------------------------------------------\u001b[0m",
      "\u001b[1;31mModuleNotFoundError\u001b[0m                       Traceback (most recent call last)",
      "\u001b[1;32m<ipython-input-1-8823097bd8c4>\u001b[0m in \u001b[0;36m<module>\u001b[1;34m()\u001b[0m\n\u001b[0;32m      2\u001b[0m \u001b[1;32mimport\u001b[0m \u001b[0mmatplotlib\u001b[0m\u001b[1;33m.\u001b[0m\u001b[0mpyplot\u001b[0m \u001b[1;32mas\u001b[0m \u001b[0mplt\u001b[0m\u001b[1;33m\u001b[0m\u001b[0m\n\u001b[0;32m      3\u001b[0m \u001b[1;32mfrom\u001b[0m \u001b[0mAltcoin\u001b[0m\u001b[1;33m.\u001b[0m\u001b[0maltcoin\u001b[0m\u001b[1;33m.\u001b[0m\u001b[0mgetData\u001b[0m \u001b[1;32mimport\u001b[0m \u001b[0mgetData\u001b[0m\u001b[1;33m\u001b[0m\u001b[0m\n\u001b[1;32m----> 4\u001b[1;33m \u001b[1;32mimport\u001b[0m \u001b[0mstatsmodels\u001b[0m\u001b[1;33m.\u001b[0m\u001b[0mapi\u001b[0m \u001b[1;32mas\u001b[0m \u001b[0msm\u001b[0m\u001b[1;33m\u001b[0m\u001b[0m\n\u001b[0m\u001b[0;32m      5\u001b[0m \u001b[0mget_ipython\u001b[0m\u001b[1;33m(\u001b[0m\u001b[1;33m)\u001b[0m\u001b[1;33m.\u001b[0m\u001b[0mrun_line_magic\u001b[0m\u001b[1;33m(\u001b[0m\u001b[1;34m'matplotlib'\u001b[0m\u001b[1;33m,\u001b[0m \u001b[1;34m'inline'\u001b[0m\u001b[1;33m)\u001b[0m\u001b[1;33m\u001b[0m\u001b[0m\n\u001b[0;32m      6\u001b[0m \u001b[1;33m\u001b[0m\u001b[0m\n",
      "\u001b[1;31mModuleNotFoundError\u001b[0m: No module named 'statsmodels'"
     ]
    }
   ],
   "source": [
    "import pandas as pd\n",
    "import matplotlib.pyplot as plt\n",
    "from Altcoin.altcoin.getData import getData\n",
    "import statsmodels.api as sm\n",
    "%matplotlib inline\n",
    "\n",
    "delta = '6h'"
   ]
  },
  {
   "cell_type": "code",
   "execution_count": null,
   "metadata": {},
   "outputs": [],
   "source": [
    "btc = getData('BTC', delta).loc['2017-08-01':]\n",
    "eos = getData('EOS', delta).loc['2017-08-01':]\n",
    "eth = getData('ETH', delta).loc['2017-08-01':]\n",
    "iot = getData('IOT', delta).loc['2017-08-01':]\n",
    "ltc = getData('LTC', delta).loc['2017-08-01':]\n",
    "omg = getData('OMG', delta).loc['2017-08-01':]\n",
    "xrp = getData('XRP', delta).loc['2017-08-01':]\n",
    "\n",
    "btc['Total Traded'] = btc['open']*btc['volume']\n",
    "eos['Total Traded'] = eos['open']*eos['volume']\n",
    "eth['Total Traded'] = eth['open']*eth['volume']\n",
    "iot['Total Traded'] = iot['open']*iot['volume']\n",
    "ltc['Total Traded'] = ltc['open']*ltc['volume']\n",
    "omg['Total Traded'] = omg['open']*omg['volume']\n",
    "xrp['Total Traded'] = xrp['open']*xrp['volume']"
   ]
  },
  {
   "cell_type": "code",
   "execution_count": null,
   "metadata": {},
   "outputs": [],
   "source": [
    "btc['returns'] = btc['close']/btc['close'].shift(1) - 1\n",
    "eos['returns'] = eos['close'].pct_change(1)\n",
    "eth['returns'] = eth['close'].pct_change(1)\n",
    "iot['returns'] = iot['close'].pct_change(1)\n",
    "ltc['returns'] = ltc['close'].pct_change(1)\n",
    "omg['returns'] = omg['close'].pct_change(1)\n",
    "xrp['returns'] = xrp['close'].pct_change(1)"
   ]
  },
  {
   "cell_type": "code",
   "execution_count": null,
   "metadata": {},
   "outputs": [],
   "source": [
    "btc['returns'].hist(bins=100);"
   ]
  },
  {
   "cell_type": "code",
   "execution_count": null,
   "metadata": {},
   "outputs": [],
   "source": [
    "eth['returns'].hist(bins=100);"
   ]
  },
  {
   "cell_type": "code",
   "execution_count": null,
   "metadata": {},
   "outputs": [],
   "source": [
    "ltc['returns'].hist(bins=100);"
   ]
  },
  {
   "cell_type": "code",
   "execution_count": null,
   "metadata": {},
   "outputs": [],
   "source": [
    "eos['returns'].hist(bins=100);"
   ]
  },
  {
   "cell_type": "code",
   "execution_count": null,
   "metadata": {},
   "outputs": [],
   "source": [
    "btc['returns'].hist(bins=100, figsize=(10,8),label='Btc', alpha=0.6)\n",
    "eth['returns'].hist(bins=100, figsize=(10,8),label='eth', alpha=0.4)\n",
    "ltc['returns'].hist(bins=100, figsize=(10,8),label='ltc', alpha=0.4)\n",
    "plt.legend();"
   ]
  },
  {
   "cell_type": "code",
   "execution_count": null,
   "metadata": {},
   "outputs": [],
   "source": [
    "btc['returns'].plot(kind='kde', figsize=(16,8), label='Btc')\n",
    "eth['returns'].plot(kind='kde', figsize=(16,8), label='Eth')\n",
    "ltc['returns'].plot(kind='kde', figsize=(16,8), label='Ltc')\n",
    "iot['returns'].plot(kind='kde', figsize=(16,8), label='Iota')\n",
    "xrp['returns'].plot(kind='kde', figsize=(16,8), label='Ripple')\n",
    "plt.legend();"
   ]
  },
  {
   "cell_type": "code",
   "execution_count": null,
   "metadata": {},
   "outputs": [],
   "source": [
    "box_df = pd.concat([btc['returns'],eth['returns'],ltc['returns'],iot['returns'],xrp['returns']], axis=1)\n",
    "box_df.columns = ['Btc ret','Eth ret','Ltc ret','Iot ret','Xrp ret']\n",
    "box_df.plot(kind='box', figsize=(8,11))\n",
    "plt.legend();"
   ]
  },
  {
   "cell_type": "code",
   "execution_count": null,
   "metadata": {},
   "outputs": [],
   "source": [
    "# comparing Daily Returns between Stocks\n",
    "from pandas.plotting import scatter_matrix\n",
    "scatter_matrix(box_df,figsize=(12, 12),alpha=0.2,hist_kwds={'bins':50});"
   ]
  },
  {
   "cell_type": "code",
   "execution_count": null,
   "metadata": {},
   "outputs": [],
   "source": [
    "box_df.plot(kind='scatter', x='Xrp ret', y = 'Ltc ret', alpha=.4,figsize=(10,8));"
   ]
  },
  {
   "cell_type": "code",
   "execution_count": null,
   "metadata": {},
   "outputs": [],
   "source": [
    "# Cumulative Daily Returns"
   ]
  },
  {
   "cell_type": "code",
   "execution_count": null,
   "metadata": {},
   "outputs": [],
   "source": [
    "btc['Cumulative Return'] = (1 + btc['returns']).cumprod()\n",
    "eth['Cumulative Return'] = (1 + eth['returns']).cumprod()\n",
    "ltc['Cumulative Return'] = (1 + ltc['returns']).cumprod()\n",
    "xrp['Cumulative Return'] = (1 + xrp['returns']).cumprod()\n",
    "eos['Cumulative Return'] = (1 + eos['returns']).cumprod()"
   ]
  },
  {
   "cell_type": "code",
   "execution_count": null,
   "metadata": {},
   "outputs": [],
   "source": [
    "btc['Cumulative Return'].plot(figsize=(16,8),label='Btc')\n",
    "eth['Cumulative Return'].plot(label='Eth')\n",
    "ltc['Cumulative Return'].plot(label='Ltc')\n",
    "xrp['Cumulative Return'].plot(label='Xrp')\n",
    "eos['Cumulative Return'].plot(label='Eos')\n",
    "plt.legend()"
   ]
  },
  {
   "cell_type": "code",
   "execution_count": null,
   "metadata": {},
   "outputs": [],
   "source": []
  }
 ],
 "metadata": {
  "kernelspec": {
   "display_name": "Python 3",
   "language": "python",
   "name": "python3"
  },
  "language_info": {
   "codemirror_mode": {
    "name": "ipython",
    "version": 3
   },
   "file_extension": ".py",
   "mimetype": "text/x-python",
   "name": "python",
   "nbconvert_exporter": "python",
   "pygments_lexer": "ipython3",
   "version": "3.6.5"
  }
 },
 "nbformat": 4,
 "nbformat_minor": 2
}
