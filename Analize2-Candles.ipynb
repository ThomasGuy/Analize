{
 "cells": [
  {
   "cell_type": "code",
   "execution_count": 26,
   "metadata": {},
   "outputs": [],
   "source": [
    "import pandas as pd\n",
    "import matplotlib.pyplot as plt\n",
    "from analize.normalized_test import crossover\n",
    "from Altcoin.altcoin.getData import getData\n",
    "from Altcoin.altcoin.getBitfinexCandles import updateAll\n",
    "import statsmodels.api as sm\n",
    "%matplotlib inline\n",
    "\n",
    "delta = '1D'"
   ]
  },
  {
   "cell_type": "code",
   "execution_count": 27,
   "metadata": {},
   "outputs": [],
   "source": [
    "btc = getData('BTC', delta).loc['2017-08-01':]\n",
    "eos = getData('EOS', delta).loc['2017-08-01':]\n",
    "eth = getData('ETH', delta).loc['2017-08-01':]\n",
    "iot = getData('IOT', delta).loc['2017-08-01':]\n",
    "neo = getData('NEO', delta).loc['2017-08-01':]\n",
    "omg = getData('OMG', delta).loc['2017-08-01':]\n",
    "xrp = getData('XRP', delta).loc['2017-08-01':]\n",
    "\n",
    "btc['Total Traded'] = btc['open']*btc['volume']\n",
    "eos['Total Traded'] = eos['open']*eos['volume']\n",
    "eth['Total Traded'] = eth['open']*eth['volume']\n",
    "iot['Total Traded'] = iot['open']*iot['volume']\n",
    "xrp['Total Traded'] = xrp['open']*xrp['volume']"
   ]
  },
  {
   "cell_type": "code",
   "execution_count": 28,
   "metadata": {},
   "outputs": [
    {
     "data": {
      "text/html": [
       "<div>\n",
       "<style scoped>\n",
       "    .dataframe tbody tr th:only-of-type {\n",
       "        vertical-align: middle;\n",
       "    }\n",
       "\n",
       "    .dataframe tbody tr th {\n",
       "        vertical-align: top;\n",
       "    }\n",
       "\n",
       "    .dataframe thead th {\n",
       "        text-align: right;\n",
       "    }\n",
       "</style>\n",
       "<table border=\"1\" class=\"dataframe\">\n",
       "  <thead>\n",
       "    <tr style=\"text-align: right;\">\n",
       "      <th></th>\n",
       "      <th>open</th>\n",
       "      <th>close</th>\n",
       "      <th>high</th>\n",
       "      <th>low</th>\n",
       "      <th>volume</th>\n",
       "      <th>Total Traded</th>\n",
       "    </tr>\n",
       "    <tr>\n",
       "      <th>MTS</th>\n",
       "      <th></th>\n",
       "      <th></th>\n",
       "      <th></th>\n",
       "      <th></th>\n",
       "      <th></th>\n",
       "      <th></th>\n",
       "    </tr>\n",
       "  </thead>\n",
       "  <tbody>\n",
       "    <tr>\n",
       "      <th>2017-08-01 07:00:00</th>\n",
       "      <td>2854.1</td>\n",
       "      <td>2731.3</td>\n",
       "      <td>2902.2</td>\n",
       "      <td>2604.0</td>\n",
       "      <td>42307.809198</td>\n",
       "      <td>1.207507e+08</td>\n",
       "    </tr>\n",
       "    <tr>\n",
       "      <th>2017-08-02 07:00:00</th>\n",
       "      <td>2731.9</td>\n",
       "      <td>2702.0</td>\n",
       "      <td>2758.0</td>\n",
       "      <td>2610.0</td>\n",
       "      <td>23762.217343</td>\n",
       "      <td>6.491600e+07</td>\n",
       "    </tr>\n",
       "    <tr>\n",
       "      <th>2017-08-03 07:00:00</th>\n",
       "      <td>2702.2</td>\n",
       "      <td>2790.3</td>\n",
       "      <td>2820.0</td>\n",
       "      <td>2698.0</td>\n",
       "      <td>16855.037700</td>\n",
       "      <td>4.554568e+07</td>\n",
       "    </tr>\n",
       "    <tr>\n",
       "      <th>2017-08-04 07:00:00</th>\n",
       "      <td>2790.4</td>\n",
       "      <td>2860.0</td>\n",
       "      <td>2876.0</td>\n",
       "      <td>2762.1</td>\n",
       "      <td>18994.721001</td>\n",
       "      <td>5.300287e+07</td>\n",
       "    </tr>\n",
       "    <tr>\n",
       "      <th>2017-08-05 07:00:00</th>\n",
       "      <td>2860.0</td>\n",
       "      <td>3252.3</td>\n",
       "      <td>3339.5</td>\n",
       "      <td>2853.3</td>\n",
       "      <td>50558.240846</td>\n",
       "      <td>1.445966e+08</td>\n",
       "    </tr>\n",
       "  </tbody>\n",
       "</table>\n",
       "</div>"
      ],
      "text/plain": [
       "                       open   close    high     low        volume  \\\n",
       "MTS                                                                 \n",
       "2017-08-01 07:00:00  2854.1  2731.3  2902.2  2604.0  42307.809198   \n",
       "2017-08-02 07:00:00  2731.9  2702.0  2758.0  2610.0  23762.217343   \n",
       "2017-08-03 07:00:00  2702.2  2790.3  2820.0  2698.0  16855.037700   \n",
       "2017-08-04 07:00:00  2790.4  2860.0  2876.0  2762.1  18994.721001   \n",
       "2017-08-05 07:00:00  2860.0  3252.3  3339.5  2853.3  50558.240846   \n",
       "\n",
       "                     Total Traded  \n",
       "MTS                                \n",
       "2017-08-01 07:00:00  1.207507e+08  \n",
       "2017-08-02 07:00:00  6.491600e+07  \n",
       "2017-08-03 07:00:00  4.554568e+07  \n",
       "2017-08-04 07:00:00  5.300287e+07  \n",
       "2017-08-05 07:00:00  1.445966e+08  "
      ]
     },
     "execution_count": 28,
     "metadata": {},
     "output_type": "execute_result"
    }
   ],
   "source": [
    "btc.head()"
   ]
  },
  {
   "cell_type": "code",
   "execution_count": 29,
   "metadata": {},
   "outputs": [],
   "source": [
    "import mpl_finance\n",
    "from mpl_finance import candlestick_ohlc\n",
    "from matplotlib.dates import DateFormatter, date2num, WeekdayLocator, DayLocator, MONDAY"
   ]
  },
  {
   "cell_type": "code",
   "execution_count": 30,
   "metadata": {},
   "outputs": [
    {
     "data": {
      "text/html": [
       "<div>\n",
       "<style scoped>\n",
       "    .dataframe tbody tr th:only-of-type {\n",
       "        vertical-align: middle;\n",
       "    }\n",
       "\n",
       "    .dataframe tbody tr th {\n",
       "        vertical-align: top;\n",
       "    }\n",
       "\n",
       "    .dataframe thead th {\n",
       "        text-align: right;\n",
       "    }\n",
       "</style>\n",
       "<table border=\"1\" class=\"dataframe\">\n",
       "  <thead>\n",
       "    <tr style=\"text-align: right;\">\n",
       "      <th></th>\n",
       "      <th>MTS</th>\n",
       "      <th>open</th>\n",
       "      <th>close</th>\n",
       "      <th>high</th>\n",
       "      <th>low</th>\n",
       "      <th>volume</th>\n",
       "      <th>Total Traded</th>\n",
       "      <th>date_ax</th>\n",
       "    </tr>\n",
       "  </thead>\n",
       "  <tbody>\n",
       "    <tr>\n",
       "      <th>0</th>\n",
       "      <td>2018-01-01 07:00:00</td>\n",
       "      <td>13763.0</td>\n",
       "      <td>13376.0</td>\n",
       "      <td>13893.000000</td>\n",
       "      <td>12777.0</td>\n",
       "      <td>29564.929552</td>\n",
       "      <td>4.069021e+08</td>\n",
       "      <td>736695.291667</td>\n",
       "    </tr>\n",
       "    <tr>\n",
       "      <th>1</th>\n",
       "      <td>2018-01-02 07:00:00</td>\n",
       "      <td>13375.0</td>\n",
       "      <td>14722.0</td>\n",
       "      <td>15500.000000</td>\n",
       "      <td>12795.0</td>\n",
       "      <td>56192.952729</td>\n",
       "      <td>7.515807e+08</td>\n",
       "      <td>736696.291667</td>\n",
       "    </tr>\n",
       "    <tr>\n",
       "      <th>2</th>\n",
       "      <td>2018-01-03 07:00:00</td>\n",
       "      <td>14717.0</td>\n",
       "      <td>15150.0</td>\n",
       "      <td>15428.830919</td>\n",
       "      <td>14500.0</td>\n",
       "      <td>38358.373452</td>\n",
       "      <td>5.645202e+08</td>\n",
       "      <td>736697.291667</td>\n",
       "    </tr>\n",
       "    <tr>\n",
       "      <th>3</th>\n",
       "      <td>2018-01-04 07:00:00</td>\n",
       "      <td>15150.0</td>\n",
       "      <td>15159.0</td>\n",
       "      <td>15422.157853</td>\n",
       "      <td>14060.0</td>\n",
       "      <td>46479.982643</td>\n",
       "      <td>7.041717e+08</td>\n",
       "      <td>736698.291667</td>\n",
       "    </tr>\n",
       "    <tr>\n",
       "      <th>4</th>\n",
       "      <td>2018-01-05 07:00:00</td>\n",
       "      <td>15159.0</td>\n",
       "      <td>16911.0</td>\n",
       "      <td>17105.000000</td>\n",
       "      <td>14725.0</td>\n",
       "      <td>54627.601065</td>\n",
       "      <td>8.280998e+08</td>\n",
       "      <td>736699.291667</td>\n",
       "    </tr>\n",
       "  </tbody>\n",
       "</table>\n",
       "</div>"
      ],
      "text/plain": [
       "                  MTS     open    close          high      low        volume  \\\n",
       "0 2018-01-01 07:00:00  13763.0  13376.0  13893.000000  12777.0  29564.929552   \n",
       "1 2018-01-02 07:00:00  13375.0  14722.0  15500.000000  12795.0  56192.952729   \n",
       "2 2018-01-03 07:00:00  14717.0  15150.0  15428.830919  14500.0  38358.373452   \n",
       "3 2018-01-04 07:00:00  15150.0  15159.0  15422.157853  14060.0  46479.982643   \n",
       "4 2018-01-05 07:00:00  15159.0  16911.0  17105.000000  14725.0  54627.601065   \n",
       "\n",
       "   Total Traded        date_ax  \n",
       "0  4.069021e+08  736695.291667  \n",
       "1  7.515807e+08  736696.291667  \n",
       "2  5.645202e+08  736697.291667  \n",
       "3  7.041717e+08  736698.291667  \n",
       "4  8.280998e+08  736699.291667  "
      ]
     },
     "execution_count": 30,
     "metadata": {},
     "output_type": "execute_result"
    }
   ],
   "source": [
    "btc_month = btc.loc['2018-01'].reset_index()\n",
    "btc_month['date_ax']= btc_month['MTS'].apply(lambda date: date2num(date))\n",
    "btc_month.head()"
   ]
  },
  {
   "cell_type": "code",
   "execution_count": 31,
   "metadata": {},
   "outputs": [],
   "source": [
    "btc_values = [tuple(vals) for vals in btc_month[['date_ax','open','high','low','close']].values ]\n",
    "# btc_values"
   ]
  },
  {
   "cell_type": "code",
   "execution_count": 32,
   "metadata": {},
   "outputs": [],
   "source": [
    "mondays = WeekdayLocator(MONDAY)        # major ticks on the mondays\n",
    "alldays = DayLocator()              # minor ticks on the days\n",
    "weekFormatter = DateFormatter('%b %d')  # e.g., Jan 12\n",
    "dayFormatter = DateFormatter('%d')      # e.g., 12"
   ]
  },
  {
   "cell_type": "code",
   "execution_count": 34,
   "metadata": {},
   "outputs": [
    {
     "data": {
      "image/png": "[encoded data removed]",
      "text/plain": [
       "<Figure size 1296x576 with 1 Axes>"
      ]
     },
     "metadata": {},
     "output_type": "display_data"
    }
   ],
   "source": [
    "fig, ax = plt.subplots(figsize=(18,8))\n",
    "fig.subplots_adjust(bottom=0.2)\n",
    "ax.xaxis.set_major_locator(mondays)\n",
    "ax.xaxis.set_minor_locator(alldays)\n",
    "ax.xaxis.set_major_formatter(weekFormatter)\n",
    "# ax.xaxis.set_minor_formatter(dayFormatter)\n",
    "\n",
    "candlestick_ohlc(ax, btc_values, width=0.6,colorup='g',colordown='r');"
   ]
  },
  {
   "cell_type": "code",
   "execution_count": null,
   "metadata": {},
   "outputs": [],
   "source": []
  }
 ],
 "metadata": {
  "kernelspec": {
   "display_name": "Python 3",
   "language": "python",
   "name": "python3"
  },
  "language_info": {
   "codemirror_mode": {
    "name": "ipython",
    "version": 3
   },
   "file_extension": ".py",
   "mimetype": "text/x-python",
   "name": "python",
   "nbconvert_exporter": "python",
   "pygments_lexer": "ipython3",
   "version": "3.6.5"
  }
 },
 "nbformat": 4,
 "nbformat_minor": 2
}
