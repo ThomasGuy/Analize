{
 "cells": [
  {
   "cell_type": "code",
   "execution_count": 1,
   "metadata": {},
   "outputs": [],
   "source": [
    "import pandas as pd\n",
    "import matplotlib.pyplot as plt\n",
    "from Altcoin.altcoin.coinData import CoinData\n",
    "from TickTocTest.ticktoctest.tickToc import getDBdata\n",
    "from Analize_coins.analize.analize_this import analize_this\n",
    "%matplotlib inline"
   ]
  },
  {
   "cell_type": "code",
   "execution_count": 2,
   "metadata": {},
   "outputs": [],
   "source": [
    "btc = CoinData('btc', getDBdata)\n",
    "eth = CoinData('eth', getDBdata)\n",
    "xrp = CoinData('xrp', getDBdata)\n",
    "bch = CoinData('bch', getDBdata)\n",
    "eos = CoinData('eos', getDBdata)\n",
    "xlm = CoinData('xlm', getDBdata)\n",
    "ltc = CoinData('ltc', getDBdata)\n",
    "ada = CoinData('ada', getDBdata)\n",
    "iot = CoinData('iot', getDBdata)\n",
    "xmr = CoinData('xmr', getDBdata)\n",
    "trx = CoinData('trx', getDBdata)\n",
    "dsh = CoinData('dsh', getDBdata)\n",
    "etc = CoinData('etc', getDBdata)\n",
    "neo = CoinData('neo', getDBdata)\n",
    "bnb = CoinData('bnb', getDBdata)"
   ]
  },
  {
   "cell_type": "code",
   "execution_count": 3,
   "metadata": {},
   "outputs": [
    {
     "data": {
      "text/plain": [
       "{'btc': btc,\n",
       " 'eth': eth,\n",
       " 'xrp': xrp,\n",
       " 'bch': bch,\n",
       " 'eos': eos,\n",
       " 'xlm': xlm,\n",
       " 'ltc': ltc,\n",
       " 'ada': ada,\n",
       " 'iot': iot,\n",
       " 'xmr': xmr,\n",
       " 'trx': trx,\n",
       " 'dsh': dsh,\n",
       " 'etc': etc,\n",
       " 'neo': neo,\n",
       " 'bnb': bnb}"
      ]
     },
     "execution_count": 3,
     "metadata": {},
     "output_type": "execute_result"
    }
   ],
   "source": [
    "CoinData.portfolio"
   ]
  },
  {
   "cell_type": "code",
   "execution_count": null,
   "metadata": {},
   "outputs": [],
   "source": [
    "start = '2018-06-01'\n",
    "results_3h = analize_this('3h', start)\n",
    "results_6h = analize_this('6h', start)\n",
    "results_4h = analize_this('4h', start)\n",
    "results_5h = analize_this('5h', start)\n",
    "results_7h = analize_this('7h', start)"
   ]
  },
  {
   "cell_type": "code",
   "execution_count": null,
   "metadata": {},
   "outputs": [],
   "source": [
    "df_3h = pd.DataFrame(results_3h, columns=('sma','bma', 'lma', 'profit'))\n",
    "df_3h['ratio'] = df_3h['bma'] / df_3h['sma']"
   ]
  },
  {
   "cell_type": "code",
   "execution_count": null,
   "metadata": {},
   "outputs": [],
   "source": [
    "df_6h = pd.DataFrame(results_6h, columns=('sma','bma', 'lma', 'profit'))\n",
    "df_6h['ratio'] = df_6h['bma'] / df_6h['sma']"
   ]
  },
  {
   "cell_type": "code",
   "execution_count": null,
   "metadata": {},
   "outputs": [],
   "source": [
    "df_4h = pd.DataFrame(results_4h, columns=('sma','bma', 'lma', 'profit'))\n",
    "df_4h['ratio'] = df_4h['bma'] / df_4h['sma']"
   ]
  },
  {
   "cell_type": "code",
   "execution_count": null,
   "metadata": {},
   "outputs": [],
   "source": [
    "df_5h = pd.DataFrame(results_5h, columns=('sma','bma', 'lma', 'profit'))\n",
    "df_5h['ratio'] = df_5h['bma'] / df_5h['sma']"
   ]
  },
  {
   "cell_type": "code",
   "execution_count": null,
   "metadata": {},
   "outputs": [],
   "source": [
    "df_7h = pd.DataFrame(results_7h, columns=('sma','bma', 'lma', 'profit'))\n",
    "df_7h['ratio'] = df_7h['bma'] / df_7h['sma']"
   ]
  },
  {
   "cell_type": "code",
   "execution_count": null,
   "metadata": {},
   "outputs": [],
   "source": [
    "fig, (ax1, ax2, ax3, ax4, ax5) = plt.subplots(1, 5, figsize=(20,8), sharey=True, sharex=True)\n",
    "ax1.scatter(df_3h.ratio, df_3h.profit)\n",
    "ax2.scatter(df_4h.ratio, df_4h.profit)\n",
    "ax3.scatter(df_5h.ratio, df_5h.profit)\n",
    "ax4.scatter(df_6h.ratio, df_6h.profit)\n",
    "ax5.scatter(df_7h.ratio, df_7h.profit)\n",
    "\n",
    "\n",
    "ax1.set_title('freq=3 hour')\n",
    "ax2.set_title('freq=4 hour')\n",
    "ax3.set_title('freq=5 hour')\n",
    "ax4.set_title('freq=6 hour')\n",
    "ax5.set_title('freq=7 hour')\n",
    "ax1.set_xlabel('Ratio')\n",
    "ax1.set_ylabel('Profit')\n",
    "\n",
    "fig.subplots_adjust(wspace=0)"
   ]
  },
  {
   "cell_type": "code",
   "execution_count": null,
   "metadata": {},
   "outputs": [],
   "source": [
    "df_3h.tail()"
   ]
  },
  {
   "cell_type": "code",
   "execution_count": null,
   "metadata": {},
   "outputs": [],
   "source": [
    "CoinData.params"
   ]
  },
  {
   "cell_type": "code",
   "execution_count": null,
   "metadata": {},
   "outputs": [],
   "source": [
    "# opts = {'sma': 25, 'bma': 86, 'lma': 236, 'step': '3h'}"
   ]
  },
  {
   "cell_type": "code",
   "execution_count": null,
   "metadata": {},
   "outputs": [],
   "source": [
    "# CoinData.setParams(**opts)"
   ]
  },
  {
   "cell_type": "code",
   "execution_count": null,
   "metadata": {},
   "outputs": [],
   "source": [
    "df, cr = btc.getCoinData()\n",
    "df"
   ]
  },
  {
   "cell_type": "code",
   "execution_count": null,
   "metadata": {},
   "outputs": [],
   "source": [
    "btc.params"
   ]
  },
  {
   "cell_type": "code",
   "execution_count": null,
   "metadata": {},
   "outputs": [],
   "source": [
    "CoinData.portfolio"
   ]
  },
  {
   "cell_type": "code",
   "execution_count": null,
   "metadata": {},
   "outputs": [],
   "source": [
    "# df_7h"
   ]
  },
  {
   "cell_type": "code",
   "execution_count": null,
   "metadata": {},
   "outputs": [],
   "source": []
  }
 ],
 "metadata": {
  "kernelspec": {
   "display_name": "Python 3",
   "language": "python",
   "name": "python3"
  },
  "language_info": {
   "codemirror_mode": {
    "name": "ipython",
    "version": 3
   },
   "file_extension": ".py",
   "mimetype": "text/x-python",
   "name": "python",
   "nbconvert_exporter": "python",
   "pygments_lexer": "ipython3",
   "version": "3.6.5"
  }
 },
 "nbformat": 4,
 "nbformat_minor": 2
}
