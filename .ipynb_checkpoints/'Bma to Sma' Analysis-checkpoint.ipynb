{
 "cells": [
  {
   "cell_type": "code",
   "execution_count": 20,
   "metadata": {},
   "outputs": [],
   "source": [
    "import pandas as pd\n",
    "import matplotlib.pyplot as plt\n",
    "from Altcoin.altcoin.coinData import CoinData\n",
    "%matplotlib inline"
   ]
  },
  {
   "cell_type": "markdown",
   "metadata": {},
   "source": [
    "## FInd best values for sma & bma\n",
    "\n",
    "use bma/sma = 2 to 3.5"
   ]
  },
  {
   "cell_type": "code",
   "execution_count": 21,
   "metadata": {},
   "outputs": [],
   "source": [
    "btc = CoinData('btc')\n",
    "eth = CoinData('eth')\n",
    "xrp = CoinData('xrp')\n",
    "bch = CoinData('bch')\n",
    "eos = CoinData('eos')\n",
    "ltc = CoinData('ltc')\n",
    "iot = CoinData('iot')\n",
    "xmr = CoinData('xmr')\n",
    "trx = CoinData('trx')\n",
    "etc = CoinData('etc')"
   ]
  },
  {
   "cell_type": "code",
   "execution_count": 22,
   "metadata": {},
   "outputs": [
    {
     "data": {
      "text/plain": [
       "{'btc': btc,\n",
       " 'eth': eth,\n",
       " 'xrp': xrp,\n",
       " 'bch': bch,\n",
       " 'eos': eos,\n",
       " 'ltc': ltc,\n",
       " 'iot': iot,\n",
       " 'xmr': xmr,\n",
       " 'trx': trx,\n",
       " 'etc': etc}"
      ]
     },
     "execution_count": 22,
     "metadata": {},
     "output_type": "execute_result"
    }
   ],
   "source": [
    "CoinData.portfolio"
   ]
  },
  {
   "cell_type": "code",
   "execution_count": 1,
   "metadata": {},
   "outputs": [],
   "source": [
    "from Analize_coins.analize.analize_this import analize_this"
   ]
  },
  {
   "cell_type": "code",
   "execution_count": 23,
   "metadata": {},
   "outputs": [],
   "source": [
    "def analize_this(interval, commence):\n",
    "    results = []\n",
    "    numCoins = len(CoinData.portfolio)\n",
    "    for sma in range(3, 21):\n",
    "        start = 2 * sma\n",
    "        stop = round(3.5 * sma) + 1\n",
    "        step = (stop - start) // 5\n",
    "        for bma in range(start, stop, step):\n",
    "            lma = round(bma * 2.75)\n",
    "            profit = 0.0\n",
    "            CoinData.setParams(sma, bma, lma, interval)\n",
    "            for coin in CoinData.portfolio.values():\n",
    "                trend, data = coin.trendFollower(start=commence)\n",
    "                profit += trend['Profit'].iloc[-1]\n",
    "\n",
    "            results.append((sma, bma, lma, profit/numCoins))\n",
    "    return results"
   ]
  },
  {
   "cell_type": "code",
   "execution_count": 24,
   "metadata": {},
   "outputs": [],
   "source": [
    "start = '2017-11-22'\n",
    "results_3h = analize_this('3h', start)\n",
    "results_6h = analize_this('6h', start)\n",
    "results_12h = analize_this('12h', start)\n",
    "results_1D = analize_this('1D', start)"
   ]
  },
  {
   "cell_type": "code",
   "execution_count": 25,
   "metadata": {},
   "outputs": [],
   "source": [
    "df_3h = pd.DataFrame(results_3h, columns=('sma','bma', 'lma', 'profit'))\n",
    "df_3h['ratio'] = df_3h['bma'] / df_3h['sma']"
   ]
  },
  {
   "cell_type": "code",
   "execution_count": 26,
   "metadata": {},
   "outputs": [],
   "source": [
    "df_6h = pd.DataFrame(results_6h, columns=('sma','bma', 'lma', 'profit'))\n",
    "df_6h['ratio'] = df_6h['bma'] / df_6h['sma']"
   ]
  },
  {
   "cell_type": "code",
   "execution_count": 27,
   "metadata": {},
   "outputs": [],
   "source": [
    "df_12h = pd.DataFrame(results_12h, columns=('sma','bma', 'lma', 'profit'))\n",
    "df_12h['ratio'] = df_12h['bma'] / df_12h['sma']"
   ]
  },
  {
   "cell_type": "code",
   "execution_count": 28,
   "metadata": {},
   "outputs": [],
   "source": [
    "df_1D = pd.DataFrame(results_1D, columns=('sma','bma', 'lma', 'profit'))\n",
    "df_1D['ratio'] = df_1D['bma'] / df_1D['sma']"
   ]
  },
  {
   "cell_type": "code",
   "execution_count": null,
   "metadata": {},
   "outputs": [],
   "source": []
  },
  {
   "cell_type": "code",
   "execution_count": 29,
   "metadata": {},
   "outputs": [
    {
     "data": {
      "image/png": "[encoded data removed]",
      "text/plain": [
       "<Figure size 1296x576 with 4 Axes>"
      ]
     },
     "metadata": {},
     "output_type": "display_data"
    }
   ],
   "source": [
    "fig, (ax1, ax2, ax3, ax4) = plt.subplots(1, 4, figsize=(18,8), sharey=True, sharex=True)\n",
    "ax1.scatter(df_3h.ratio, df_3h.profit)\n",
    "ax2.scatter(df_6h.ratio, df_6h.profit)\n",
    "ax3.scatter(df_12h.ratio, df_12h.profit)\n",
    "ax4.scatter(df_1D.ratio, df_1D.profit)\n",
    "\n",
    "ax1.set_title('freq=3 hour')\n",
    "ax2.set_title('freq=6 hour')\n",
    "ax3.set_title('freq=12 hour')\n",
    "ax4.set_title('freq=1 day')\n",
    "ax1.set_xlabel('Ratio')\n",
    "ax1.set_ylabel('Profit')\n",
    "\n",
    "fig.subplots_adjust(wspace=0)"
   ]
  },
  {
   "cell_type": "markdown",
   "metadata": {},
   "source": [
    "What does this show us??"
   ]
  },
  {
   "cell_type": "code",
   "execution_count": null,
   "metadata": {},
   "outputs": [],
   "source": [
    "df_6h['profit'].idxmax() "
   ]
  },
  {
   "cell_type": "code",
   "execution_count": null,
   "metadata": {},
   "outputs": [],
   "source": [
    "df_6h.iloc[38]"
   ]
  },
  {
   "cell_type": "code",
   "execution_count": null,
   "metadata": {},
   "outputs": [],
   "source": [
    "df_1D['profit'].idxmax()\n"
   ]
  },
  {
   "cell_type": "code",
   "execution_count": null,
   "metadata": {},
   "outputs": [],
   "source": [
    "d3h = df_3h[df_3h['profit'] > 3.4]\n",
    "d3h"
   ]
  },
  {
   "cell_type": "code",
   "execution_count": null,
   "metadata": {},
   "outputs": [],
   "source": [
    "d6h = df_6h[df_6h['profit'] > 3.4]\n",
    "d6h"
   ]
  },
  {
   "cell_type": "code",
   "execution_count": null,
   "metadata": {},
   "outputs": [],
   "source": [
    "d1D = df_1D[df_1D['profit'] > 3.2]\n",
    "d1D"
   ]
  },
  {
   "cell_type": "code",
   "execution_count": null,
   "metadata": {},
   "outputs": [],
   "source": [
    "d12h = df_12h[df_12h['profit'] > 3.2]\n",
    "d12h"
   ]
  },
  {
   "cell_type": "code",
   "execution_count": null,
   "metadata": {},
   "outputs": [],
   "source": [
    "profit = 0.0\n",
    "dataTuples = {}\n",
    "CoinData.setParams(10, 27, 74, '3h')\n",
    "for coin in CoinData.portfolio.values():\n",
    "    trend, data = coin.trendFollower(start=commence)\n",
    "    dataTuples[coin.name] = trend, data\n",
    "    prof = trend['Profit'].iloc[-1]\n",
    "    profit += prof\n",
    "    print(coin.name, prof)\n",
    "print('Total {}'.format(profit/len(CoinData.portfolio)))"
   ]
  },
  {
   "cell_type": "code",
   "execution_count": null,
   "metadata": {},
   "outputs": [],
   "source": []
  },
  {
   "cell_type": "code",
   "execution_count": null,
   "metadata": {},
   "outputs": [],
   "source": [
    "xrp.plot()"
   ]
  },
  {
   "cell_type": "code",
   "execution_count": null,
   "metadata": {},
   "outputs": [],
   "source": [
    "df, cr = xrp.getCoinData()\n",
    "df.head()"
   ]
  },
  {
   "cell_type": "code",
   "execution_count": null,
   "metadata": {},
   "outputs": [],
   "source": []
  },
  {
   "cell_type": "code",
   "execution_count": null,
   "metadata": {},
   "outputs": [],
   "source": []
  },
  {
   "cell_type": "code",
   "execution_count": null,
   "metadata": {},
   "outputs": [],
   "source": []
  },
  {
   "cell_type": "code",
   "execution_count": null,
   "metadata": {},
   "outputs": [],
   "source": []
  }
 ],
 "metadata": {
  "kernelspec": {
   "display_name": "Python 3",
   "language": "python",
   "name": "python3"
  },
  "language_info": {
   "codemirror_mode": {
    "name": "ipython",
    "version": 3
   },
   "file_extension": ".py",
   "mimetype": "text/x-python",
   "name": "python",
   "nbconvert_exporter": "python",
   "pygments_lexer": "ipython3",
   "version": "3.6.5"
  }
 },
 "nbformat": 4,
 "nbformat_minor": 2
}
